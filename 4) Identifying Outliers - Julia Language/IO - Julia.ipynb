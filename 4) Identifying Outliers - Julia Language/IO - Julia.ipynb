{
 "cells": [
  {
   "attachments": {},
   "cell_type": "markdown",
   "metadata": {},
   "source": [
    "### Identifying Outliers with Julia Language\n",
    "\n",
    "- Based on a dataframe of patients diagnosed with cancer, the goal is to detect if there are lines that contain outliers, i.e. patients that deviate from the distribution mean of a given variable\n",
    "- soruce: https://stats.oarc.ucla.edu/r/codefragments/mesimulation/"
   ]
  },
  {
   "cell_type": "code",
   "execution_count": 1,
   "metadata": {},
   "outputs": [],
   "source": [
    "# Importing packages\n",
    "\n",
    "import Pkg\n",
    "# add_packages = [\"CSV\",\"DataFrames\",\"ScikitLearn\",\"Clustering\",\"Distances\"]\n",
    "# for package in add_packages Pkg.add(package) end\n",
    "using CSV, DataFrames, ScikitLearn, Clustering, Distances, Statistics"
   ]
  },
  {
   "cell_type": "code",
   "execution_count": null,
   "metadata": {},
   "outputs": [],
   "source": [
    "# Loading the dataset\n",
    "dataset = CSV.File(read(\"data/dataset.csv\")) |> DataFrame"
   ]
  },
  {
   "cell_type": "code",
   "execution_count": 5,
   "metadata": {},
   "outputs": [],
   "source": [
    "# Importing ScikitLearn -> Label Encoding to transform string columns to numerical columns\n",
    "@sk_import preprocessing: LabelEncoder\n",
    "\n",
    "# Selecting string columns\n",
    "col_types = Dict(names(dataset) .=> eltype.(eachcol(dataset)))\n",
    "string_col = filter(p -> (last(p) == String7 || last(p) == String3 ), col_types)\n",
    "\n",
    "# Label Encoding - transforming columns\n",
    "le = LabelEncoder()\n",
    "for column in keys(string_col) dataset[!, column] = le.fit_transform(dataset[!, column]) end"
   ]
  },
  {
   "cell_type": "code",
   "execution_count": 7,
   "metadata": {},
   "outputs": [
    {
     "data": {
      "text/html": [
       "<div><div style = \"float: left;\"><span>5×27 DataFrame</span></div><div style = \"clear: both;\"></div></div><div class = \"data-frame\" style = \"overflow-x: scroll;\"><table class = \"data-frame\" style = \"margin-bottom: 6px;\"><thead><tr class = \"header\"><th class = \"rowNumber\" style = \"font-weight: bold; text-align: right;\">Row</th><th style = \"text-align: left;\">tumorsize</th><th style = \"text-align: left;\">co2</th><th style = \"text-align: left;\">pain</th><th style = \"text-align: left;\">wound</th><th style = \"text-align: left;\">mobility</th><th style = \"text-align: left;\">ntumors</th><th style = \"text-align: left;\">nmorphine</th><th style = \"text-align: left;\">remission</th><th style = \"text-align: left;\">lungcapacity</th><th style = \"text-align: left;\">Age</th><th style = \"text-align: left;\">Married</th><th style = \"text-align: left;\">FamilyHx</th><th style = \"text-align: left;\">SmokingHx</th><th style = \"text-align: left;\">Sex</th><th style = \"text-align: left;\">CancerStage</th><th style = \"text-align: left;\">LengthofStay</th><th style = \"text-align: left;\">WBC</th><th style = \"text-align: left;\">RBC</th><th style = \"text-align: left;\">BMI</th><th style = \"text-align: left;\">IL6</th><th style = \"text-align: left;\">CRP</th><th style = \"text-align: left;\">DID</th><th style = \"text-align: left;\">Experience</th><th style = \"text-align: left;\">School</th><th style = \"text-align: left;\">Lawsuits</th><th style = \"text-align: left;\">HID</th><th style = \"text-align: left;\">Medicaid</th></tr><tr class = \"subheader headerLastRow\"><th class = \"rowNumber\" style = \"font-weight: bold; text-align: right;\"></th><th title = \"Float64\" style = \"text-align: left;\">Float64</th><th title = \"Float64\" style = \"text-align: left;\">Float64</th><th title = \"Int64\" style = \"text-align: left;\">Int64</th><th title = \"Int64\" style = \"text-align: left;\">Int64</th><th title = \"Int64\" style = \"text-align: left;\">Int64</th><th title = \"Int64\" style = \"text-align: left;\">Int64</th><th title = \"Int64\" style = \"text-align: left;\">Int64</th><th title = \"Int64\" style = \"text-align: left;\">Int64</th><th title = \"Float64\" style = \"text-align: left;\">Float64</th><th title = \"Float64\" style = \"text-align: left;\">Float64</th><th title = \"Int64\" style = \"text-align: left;\">Int64</th><th title = \"Int64\" style = \"text-align: left;\">Int64</th><th title = \"Int64\" style = \"text-align: left;\">Int64</th><th title = \"Int64\" style = \"text-align: left;\">Int64</th><th title = \"Int64\" style = \"text-align: left;\">Int64</th><th title = \"Int64\" style = \"text-align: left;\">Int64</th><th title = \"Float64\" style = \"text-align: left;\">Float64</th><th title = \"Float64\" style = \"text-align: left;\">Float64</th><th title = \"Float64\" style = \"text-align: left;\">Float64</th><th title = \"Float64\" style = \"text-align: left;\">Float64</th><th title = \"Float64\" style = \"text-align: left;\">Float64</th><th title = \"Int64\" style = \"text-align: left;\">Int64</th><th title = \"Int64\" style = \"text-align: left;\">Int64</th><th title = \"Int64\" style = \"text-align: left;\">Int64</th><th title = \"Int64\" style = \"text-align: left;\">Int64</th><th title = \"Int64\" style = \"text-align: left;\">Int64</th><th title = \"Float64\" style = \"text-align: left;\">Float64</th></tr></thead><tbody><tr><td class = \"rowNumber\" style = \"font-weight: bold; text-align: right;\">1</td><td style = \"text-align: right;\">67.9812</td><td style = \"text-align: right;\">1.53433</td><td style = \"text-align: right;\">4</td><td style = \"text-align: right;\">4</td><td style = \"text-align: right;\">2</td><td style = \"text-align: right;\">0</td><td style = \"text-align: right;\">0</td><td style = \"text-align: right;\">0</td><td style = \"text-align: right;\">0.801088</td><td style = \"text-align: right;\">64.9682</td><td style = \"text-align: right;\">0</td><td style = \"text-align: right;\">0</td><td style = \"text-align: right;\">1</td><td style = \"text-align: right;\">1</td><td style = \"text-align: right;\">1</td><td style = \"text-align: right;\">6</td><td style = \"text-align: right;\">6087.65</td><td style = \"text-align: right;\">4.86842</td><td style = \"text-align: right;\">24.1442</td><td style = \"text-align: right;\">3.69898</td><td style = \"text-align: right;\">8.08642</td><td style = \"text-align: right;\">1</td><td style = \"text-align: right;\">25</td><td style = \"text-align: right;\">0</td><td style = \"text-align: right;\">3</td><td style = \"text-align: right;\">1</td><td style = \"text-align: right;\">0.605867</td></tr><tr><td class = \"rowNumber\" style = \"font-weight: bold; text-align: right;\">2</td><td style = \"text-align: right;\">64.7025</td><td style = \"text-align: right;\">1.67613</td><td style = \"text-align: right;\">2</td><td style = \"text-align: right;\">3</td><td style = \"text-align: right;\">2</td><td style = \"text-align: right;\">0</td><td style = \"text-align: right;\">0</td><td style = \"text-align: right;\">0</td><td style = \"text-align: right;\">0.326444</td><td style = \"text-align: right;\">53.9171</td><td style = \"text-align: right;\">0</td><td style = \"text-align: right;\">0</td><td style = \"text-align: right;\">1</td><td style = \"text-align: right;\">0</td><td style = \"text-align: right;\">1</td><td style = \"text-align: right;\">6</td><td style = \"text-align: right;\">6700.31</td><td style = \"text-align: right;\">4.67905</td><td style = \"text-align: right;\">29.4052</td><td style = \"text-align: right;\">2.62748</td><td style = \"text-align: right;\">0.803488</td><td style = \"text-align: right;\">1</td><td style = \"text-align: right;\">25</td><td style = \"text-align: right;\">0</td><td style = \"text-align: right;\">3</td><td style = \"text-align: right;\">1</td><td style = \"text-align: right;\">0.605867</td></tr><tr><td class = \"rowNumber\" style = \"font-weight: bold; text-align: right;\">3</td><td style = \"text-align: right;\">51.567</td><td style = \"text-align: right;\">1.53345</td><td style = \"text-align: right;\">6</td><td style = \"text-align: right;\">3</td><td style = \"text-align: right;\">2</td><td style = \"text-align: right;\">0</td><td style = \"text-align: right;\">0</td><td style = \"text-align: right;\">0</td><td style = \"text-align: right;\">0.565031</td><td style = \"text-align: right;\">53.3473</td><td style = \"text-align: right;\">1</td><td style = \"text-align: right;\">0</td><td style = \"text-align: right;\">2</td><td style = \"text-align: right;\">0</td><td style = \"text-align: right;\">1</td><td style = \"text-align: right;\">5</td><td style = \"text-align: right;\">6042.81</td><td style = \"text-align: right;\">5.00586</td><td style = \"text-align: right;\">29.4826</td><td style = \"text-align: right;\">13.8962</td><td style = \"text-align: right;\">4.03416</td><td style = \"text-align: right;\">1</td><td style = \"text-align: right;\">25</td><td style = \"text-align: right;\">0</td><td style = \"text-align: right;\">3</td><td style = \"text-align: right;\">1</td><td style = \"text-align: right;\">0.605867</td></tr><tr><td class = \"rowNumber\" style = \"font-weight: bold; text-align: right;\">4</td><td style = \"text-align: right;\">86.438</td><td style = \"text-align: right;\">1.4533</td><td style = \"text-align: right;\">3</td><td style = \"text-align: right;\">3</td><td style = \"text-align: right;\">2</td><td style = \"text-align: right;\">0</td><td style = \"text-align: right;\">0</td><td style = \"text-align: right;\">0</td><td style = \"text-align: right;\">0.848411</td><td style = \"text-align: right;\">41.368</td><td style = \"text-align: right;\">0</td><td style = \"text-align: right;\">0</td><td style = \"text-align: right;\">1</td><td style = \"text-align: right;\">1</td><td style = \"text-align: right;\">0</td><td style = \"text-align: right;\">5</td><td style = \"text-align: right;\">7162.7</td><td style = \"text-align: right;\">5.26506</td><td style = \"text-align: right;\">21.5573</td><td style = \"text-align: right;\">3.00803</td><td style = \"text-align: right;\">2.12586</td><td style = \"text-align: right;\">1</td><td style = \"text-align: right;\">25</td><td style = \"text-align: right;\">0</td><td style = \"text-align: right;\">3</td><td style = \"text-align: right;\">1</td><td style = \"text-align: right;\">0.605867</td></tr><tr><td class = \"rowNumber\" style = \"font-weight: bold; text-align: right;\">5</td><td style = \"text-align: right;\">53.4002</td><td style = \"text-align: right;\">1.56635</td><td style = \"text-align: right;\">3</td><td style = \"text-align: right;\">4</td><td style = \"text-align: right;\">2</td><td style = \"text-align: right;\">0</td><td style = \"text-align: right;\">0</td><td style = \"text-align: right;\">0</td><td style = \"text-align: right;\">0.886491</td><td style = \"text-align: right;\">46.8004</td><td style = \"text-align: right;\">0</td><td style = \"text-align: right;\">0</td><td style = \"text-align: right;\">2</td><td style = \"text-align: right;\">1</td><td style = \"text-align: right;\">1</td><td style = \"text-align: right;\">6</td><td style = \"text-align: right;\">6443.44</td><td style = \"text-align: right;\">4.98426</td><td style = \"text-align: right;\">29.8152</td><td style = \"text-align: right;\">3.8907</td><td style = \"text-align: right;\">1.34932</td><td style = \"text-align: right;\">1</td><td style = \"text-align: right;\">25</td><td style = \"text-align: right;\">0</td><td style = \"text-align: right;\">3</td><td style = \"text-align: right;\">1</td><td style = \"text-align: right;\">0.605867</td></tr></tbody></table></div>"
      ],
      "text/latex": [
       "\\begin{tabular}{r|cccccccccc}\n",
       "\t& tumorsize & co2 & pain & wound & mobility & ntumors & nmorphine & remission & lungcapacity & \\\\\n",
       "\t\\hline\n",
       "\t& Float64 & Float64 & Int64 & Int64 & Int64 & Int64 & Int64 & Int64 & Float64 & \\\\\n",
       "\t\\hline\n",
       "\t1 & 67.9812 & 1.53433 & 4 & 4 & 2 & 0 & 0 & 0 & 0.801088 & $\\dots$ \\\\\n",
       "\t2 & 64.7025 & 1.67613 & 2 & 3 & 2 & 0 & 0 & 0 & 0.326444 & $\\dots$ \\\\\n",
       "\t3 & 51.567 & 1.53345 & 6 & 3 & 2 & 0 & 0 & 0 & 0.565031 & $\\dots$ \\\\\n",
       "\t4 & 86.438 & 1.4533 & 3 & 3 & 2 & 0 & 0 & 0 & 0.848411 & $\\dots$ \\\\\n",
       "\t5 & 53.4002 & 1.56635 & 3 & 4 & 2 & 0 & 0 & 0 & 0.886491 & $\\dots$ \\\\\n",
       "\\end{tabular}\n"
      ],
      "text/plain": [
       "\u001b[1m5×27 DataFrame\u001b[0m\n",
       "\u001b[1m Row \u001b[0m│\u001b[1m tumorsize \u001b[0m\u001b[1m co2     \u001b[0m\u001b[1m pain  \u001b[0m\u001b[1m wound \u001b[0m\u001b[1m mobility \u001b[0m\u001b[1m ntumors \u001b[0m\u001b[1m nmorphine \u001b[0m\u001b[1m remissi\u001b[0m ⋯\n",
       "     │\u001b[90m Float64   \u001b[0m\u001b[90m Float64 \u001b[0m\u001b[90m Int64 \u001b[0m\u001b[90m Int64 \u001b[0m\u001b[90m Int64    \u001b[0m\u001b[90m Int64   \u001b[0m\u001b[90m Int64     \u001b[0m\u001b[90m Int64  \u001b[0m ⋯\n",
       "─────┼──────────────────────────────────────────────────────────────────────────\n",
       "   1 │   67.9812  1.53433      4      4         2        0          0          ⋯\n",
       "   2 │   64.7025  1.67613      2      3         2        0          0\n",
       "   3 │   51.567   1.53345      6      3         2        0          0\n",
       "   4 │   86.438   1.4533       3      3         2        0          0\n",
       "   5 │   53.4002  1.56635      3      4         2        0          0          ⋯\n",
       "\u001b[36m                                                              20 columns omitted\u001b[0m"
      ]
     },
     "metadata": {},
     "output_type": "display_data"
    }
   ],
   "source": [
    "first(dataset,5)"
   ]
  },
  {
   "cell_type": "code",
   "execution_count": 15,
   "metadata": {},
   "outputs": [
    {
     "data": {
      "text/plain": [
       "8525×8525 Matrix{Float64}:\n",
       "    0.0     612.842     50.725  1075.49   …   473.169  2186.07    532.313\n",
       "  612.842     0.0      657.752   463.14       552.294  2790.32    489.015\n",
       "   50.725   657.752      0.0    1120.58       497.574  2142.09    562.426\n",
       " 1075.49    463.14    1120.58      0.0        929.533  3248.54    838.722\n",
       "  356.665   257.23     400.839   720.086      423.912  2536.53    408.036\n",
       "  713.244   101.213    757.857   364.022  …   624.504  2889.56    550.955\n",
       "  149.682   464.227    196.177   926.388      417.871  2332.45    451.344\n",
       " 2090.12   2702.66    2045.27   3165.11      2365.29    412.115  2466.32\n",
       "  565.32     49.5982   610.236   510.681      521.594  2743.33    464.432\n",
       "  310.332   922.325    265.828  1384.84       684.168  1882.88    769.033\n",
       "    ⋮                                     ⋱                      \n",
       "  412.285   689.639    421.245  1097.09       184.126  2204.52    286.92\n",
       "  957.452   480.286    998.45    458.91       626.619  3014.04    524.28\n",
       " 1786.08   2386.64    1742.5    2843.41      1978.91    408.91   2081.32\n",
       "  956.584   479.854    997.597   458.49       625.435  3012.92    523.22\n",
       "  530.905  1036.43     503.824  1473.04   …   580.462  1807.57    682.726\n",
       " 1426.79   2021.44    1384.11   2475.99      1607.21    780.916  1709.67\n",
       "  473.169   552.294    497.574   929.533        0.0    2387.72    103.446\n",
       " 2186.07   2790.32    2142.09   3248.54      2387.72      0.0    2490.12\n",
       "  532.313   489.015    562.426   838.722      103.446  2490.12      0.0"
      ]
     },
     "metadata": {},
     "output_type": "display_data"
    }
   ],
   "source": [
    "# Converting the dataset to a matrix\n",
    "matrix = Matrix(dataset)\n",
    "distance_type = Euclidean()\n",
    "distances = pairwise(distance_type, matrix', matrix')"
   ]
  },
  {
   "attachments": {},
   "cell_type": "markdown",
   "metadata": {},
   "source": [
    "![title](images/euclidiana.png)\n",
    "\n",
    "Euclidian Distance Formula and Euclidian Distance Matrix\n",
    "\n",
    "source: https://www.dabblingbadger.com/blog/2020/2/27/implementing-euclidean-distance-matrix-calculations-from-scratch-in-python\n",
    "\n",
    "In this project, the distances are being calculated comparing row to row - ex: row 1 = A1 and row 2 = A2. The model will categorize the distances and place them within groups, if the distance is not placed inside a group it is due the fact that a line was very different compared to the other lines (one or more variables were discrepants and when put in the Euclidian formula, made the distance too big = outlier) ."
   ]
  },
  {
   "cell_type": "code",
   "execution_count": 24,
   "metadata": {},
   "outputs": [
    {
     "data": {
      "text/plain": [
       "calc_silhouette (generic function with 1 method)"
      ]
     },
     "metadata": {},
     "output_type": "display_data"
    }
   ],
   "source": [
    "# Function to calculate Silhouette's Coefficient\n",
    "# The Silhouette coefficient, when close to +1, indicates that the points are very far from the points of the other cluster,\n",
    "# and when close to 0, it indicates that the points are very close or even intersecting another cluster.\n",
    "\n",
    "function calc_silhouette(sil)\n",
    "    silMean = mean(sil)\n",
    "    println(\"Silhouette Coeficient Mean: $silMean\")\n",
    "end"
   ]
  },
  {
   "cell_type": "code",
   "execution_count": 17,
   "metadata": {},
   "outputs": [
    {
     "name": "stdout",
     "output_type": "stream",
     "text": [
      "131.155318 seconds (4.33 M allocations: 298.956 MiB, 0.47% gc time, 5.46% compilation time)\n"
     ]
    },
    {
     "data": {
      "text/plain": [
       "KmeansResult{Matrix{Float64}, Float64, Int64}([772.6924512384683 2619.8756593920903 … 1209.4966875567268 423.9783921038607; 1368.3732439959467 2010.4855721189822 … 1813.9868505409413 339.22015129573504; … ; 1432.606306586023 4763.008019260484 … 990.5193720753512 2517.0313552056264; 1101.4387536063941 2279.7185683928856 … 1545.491358786313 218.65291366369047], [15, 3, 15, 19, 30, 3, 6, 23, 21, 4  …  15, 18, 13, 28, 13, 4, 16, 6, 23, 30], [5.0479120614356995e7, 3.850676761209488e7, 3.392814274025345e7, 2.0657063395240784e7, 2.6776067961841583e7, 4.9212512300144196e7, 6.061230577410126e7, 1.3052726934370422e8, 5.475664035165024e7, 3.1885794318145752e7  …  5.9710417181575775e7, 3.305618056431961e7, 2.475804458933258e7, 9.00819408720398e6, 2.4353679088935852e7, 3.179032204541397e7, 1.834185376046753e7, 3.3701660810230255e7, 3.950539938864136e7, 3.1088912300247192e7], [393, 45, 441, 428, 360, 471, 103, 364, 305, 158  …  463, 452, 77, 438, 46, 11, 403, 171, 303, 407], [393, 45, 441, 428, 360, 471, 103, 364, 305, 158  …  463, 452, 77, 438, 46, 11, 403, 171, 303, 407], 2.6058270840932892e11, 81, true)"
      ]
     },
     "metadata": {},
     "output_type": "display_data"
    }
   ],
   "source": [
    "num_clusters = 30\n",
    "model = @time kmeans(distances, num_clusters)"
   ]
  },
  {
   "cell_type": "code",
   "execution_count": 31,
   "metadata": {},
   "outputs": [
    {
     "name": "stdout",
     "output_type": "stream",
     "text": [
      "Silhouette Coeficient Mean: 0.20488518559748964\n"
     ]
    }
   ],
   "source": [
    "calc_silhouette(silhouettes(model, distances))"
   ]
  },
  {
   "cell_type": "code",
   "execution_count": 34,
   "metadata": {},
   "outputs": [
    {
     "name": "stdout",
     "output_type": "stream",
     "text": [
      "\n",
      "Outlier found on line 664\n",
      "\n",
      "\u001b[1mDataFrameRow\u001b[0m\n",
      "\u001b[1m Row \u001b[0m│\u001b[1m tumorsize \u001b[0m\u001b[1m co2     \u001b[0m\u001b[1m pain  \u001b[0m\u001b[1m wound \u001b[0m\u001b[1m mobility \u001b[0m\u001b[1m ntumors \u001b[0m\u001b[1m nmorphine \u001b[0m\u001b[1m remission \u001b[0m\u001b[1m lungcapacity \u001b[0m\u001b[1m Age     \u001b[0m\n",
      "     │\u001b[90m Float64   \u001b[0m\u001b[90m Float64 \u001b[0m\u001b[90m Int64 \u001b[0m\u001b[90m Int64 \u001b[0m\u001b[90m Int64    \u001b[0m\u001b[90m Int64   \u001b[0m\u001b[90m Int64     \u001b[0m\u001b[90m Int64     \u001b[0m\u001b[90m Float64      \u001b[0m\u001b[90m Float64 \u001b[0m\n",
      "─────┼──────────────────────────────────────────────────────────────────────────────────────────────────\n",
      " 664 │   58.1622  1.36571      4      6         3        0          0          0      0.957281  51.3678\n",
      "Outlier found on line 6202\n",
      "\n",
      "\u001b[1mDataFrameRow\u001b[0m\n",
      "\u001b[1m  Row \u001b[0m│\u001b[1m tumorsize \u001b[0m\u001b[1m co2     \u001b[0m\u001b[1m pain  \u001b[0m\u001b[1m wound \u001b[0m\u001b[1m mobility \u001b[0m\u001b[1m ntumors \u001b[0m\u001b[1m nmorphine \u001b[0m\u001b[1m remission \u001b[0m\u001b[1m lungcapacity \u001b[0m\u001b[1m Age     \u001b[0m\n",
      "      │\u001b[90m Float64   \u001b[0m\u001b[90m Float64 \u001b[0m\u001b[90m Int64 \u001b[0m\u001b[90m Int64 \u001b[0m\u001b[90m Int64    \u001b[0m\u001b[90m Int64   \u001b[0m\u001b[90m Int64     \u001b[0m\u001b[90m Int64     \u001b[0m\u001b[90m Float64      \u001b[0m\u001b[90m Float64 \u001b[0m\n",
      "──────┼──────────────────────────────────────────────────────────────────────────────────────────────────\n",
      " 6202 │   89.9691  1.74554      5      5         6        1          7          1       0.86899  42.6253\n",
      "Outlier found on line 3302\n",
      "\n",
      "\u001b[1mDataFrameRow\u001b[0m\n",
      "\u001b[1m  Row \u001b[0m│\u001b[1m tumorsize \u001b[0m\u001b[1m co2     \u001b[0m\u001b[1m pain  \u001b[0m\u001b[1m wound \u001b[0m\u001b[1m mobility \u001b[0m\u001b[1m ntumors \u001b[0m\u001b[1m nmorphine \u001b[0m\u001b[1m remission \u001b[0m\u001b[1m lungcapacity \u001b[0m\u001b[1m Age     \u001b[0m\n",
      "      │\u001b[90m Float64   \u001b[0m\u001b[90m Float64 \u001b[0m\u001b[90m Int64 \u001b[0m\u001b[90m Int64 \u001b[0m\u001b[90m Int64    \u001b[0m\u001b[90m Int64   \u001b[0m\u001b[90m Int64     \u001b[0m\u001b[90m Int64     \u001b[0m\u001b[90m Float64      \u001b[0m\u001b[90m Float64 \u001b[0m\n",
      "──────┼──────────────────────────────────────────────────────────────────────────────────────────────────\n",
      " 3302 │   80.3663  1.68671      5      7         7        7          3          0      0.972574  46.8439\n",
      "Outlier found on line 5511\n",
      "\n",
      "\u001b[1mDataFrameRow\u001b[0m\n",
      "\u001b[1m  Row \u001b[0m│\u001b[1m tumorsize \u001b[0m\u001b[1m co2     \u001b[0m\u001b[1m pain  \u001b[0m\u001b[1m wound \u001b[0m\u001b[1m mobility \u001b[0m\u001b[1m ntumors \u001b[0m\u001b[1m nmorphine \u001b[0m\u001b[1m remission \u001b[0m\u001b[1m lungcapacity \u001b[0m\u001b[1m Age     \u001b[0m\n",
      "      │\u001b[90m Float64   \u001b[0m\u001b[90m Float64 \u001b[0m\u001b[90m Int64 \u001b[0m\u001b[90m Int64 \u001b[0m\u001b[90m Int64    \u001b[0m\u001b[90m Int64   \u001b[0m\u001b[90m Int64     \u001b[0m\u001b[90m Int64     \u001b[0m\u001b[90m Float64      \u001b[0m\u001b[90m Float64 \u001b[0m\n",
      "──────┼──────────────────────────────────────────────────────────────────────────────────────────────────\n",
      " 5511 │   74.0334  1.74559      7      3         6        1          2          0      0.852044  57.9033\n",
      "Outlier found on line 4546\n",
      "\n",
      "\u001b[1mDataFrameRow\u001b[0m\n",
      "\u001b[1m  Row \u001b[0m│\u001b[1m tumorsize \u001b[0m\u001b[1m co2     \u001b[0m\u001b[1m pain  \u001b[0m\u001b[1m wound \u001b[0m\u001b[1m mobility \u001b[0m\u001b[1m ntumors \u001b[0m\u001b[1m nmorphine \u001b[0m\u001b[1m remission \u001b[0m\u001b[1m lungcapacity \u001b[0m\u001b[1m Age     \u001b[0m\n",
      "      │\u001b[90m Float64   \u001b[0m\u001b[90m Float64 \u001b[0m\u001b[90m Int64 \u001b[0m\u001b[90m Int64 \u001b[0m\u001b[90m Int64    \u001b[0m\u001b[90m Int64   \u001b[0m\u001b[90m Int64     \u001b[0m\u001b[90m Int64     \u001b[0m\u001b[90m Float64      \u001b[0m\u001b[90m Float64 \u001b[0m\n",
      "──────┼──────────────────────────────────────────────────────────────────────────────────────────────────\n",
      " 4546 │    58.698  1.62596      3      7         5        3          3          0       0.74624  63.1708"
     ]
    }
   ],
   "source": [
    "# Identifying 5 outliers\n",
    "for i = 1:5\n",
    "    maxCost = findmax(model.costs) #costs - measures the performance of a machine learning model\n",
    "    index = maxCost[2]\n",
    "    println(\"\\nOutlier found on line $index\\n\")\n",
    "    show(dataset[index, 1:10], allcols = true)\n",
    "    model.costs[index] = 0\n",
    "end"
   ]
  }
 ],
 "metadata": {
  "kernelspec": {
   "display_name": "Julia 1.9.0",
   "language": "julia",
   "name": "julia-1.9"
  },
  "language_info": {
   "file_extension": ".jl",
   "mimetype": "application/julia",
   "name": "julia",
   "version": "1.9.0"
  },
  "orig_nbformat": 4
 },
 "nbformat": 4,
 "nbformat_minor": 2
}
